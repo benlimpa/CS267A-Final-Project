{
 "cells": [
  {
   "cell_type": "markdown",
   "metadata": {},
   "source": [
    "# Topic Modeling"
   ]
  },
  {
   "cell_type": "code",
   "execution_count": 1,
   "metadata": {},
   "outputs": [],
   "source": [
    "from tqdm.notebook import tqdm\n",
    "import gensim\n",
    "from gensim.utils import simple_preprocess\n",
    "import nltk\n",
    "from nltk.corpus import stopwords\n",
    "import gensim.corpora as corpora\n",
    "from sklearn.linear_model import LogisticRegression\n",
    "from sklearn import preprocessing\n",
    "\n",
    "from utilities import get_nodeid2text\n",
    "\n",
    "tqdm.pandas()"
   ]
  },
  {
   "cell_type": "code",
   "execution_count": 2,
   "metadata": {},
   "outputs": [
    {
     "name": "stderr",
     "output_type": "stream",
     "text": [
      "[nltk_data] Downloading package stopwords to\n",
      "[nltk_data]     /home/benlimpa/nltk_data...\n",
      "[nltk_data]   Package stopwords is already up-to-date!\n"
     ]
    }
   ],
   "source": [
    "# configure stop words (words we exclude)\n",
    "nltk.download('stopwords')\n",
    "stop_words = stopwords.words('english')\n",
    "stop_words.extend(['from', 'subject', 're', 'edu', 'use'])"
   ]
  },
  {
   "cell_type": "code",
   "execution_count": 3,
   "metadata": {},
   "outputs": [],
   "source": [
    "# load raw title + abstract data\n",
    "nodeid2text, (train_idx, valid_idx, test_idx) = get_nodeid2text()"
   ]
  },
  {
   "cell_type": "code",
   "execution_count": 4,
   "metadata": {},
   "outputs": [
    {
     "data": {
      "application/vnd.jupyter.widget-view+json": {
       "model_id": "dd75911b3b324f769afa74a4c96cd119",
       "version_major": 2,
       "version_minor": 0
      },
      "text/plain": [
       "  0%|          | 0/169343 [00:00<?, ?it/s]"
      ]
     },
     "metadata": {},
     "output_type": "display_data"
    }
   ],
   "source": [
    "# preprocess the text to split into words/tokens\n",
    "nodeid2text = nodeid2text.assign(\n",
    "    words=nodeid2text[\"text\"].progress_apply(\n",
    "        lambda mystr: gensim.utils.simple_preprocess(mystr, deacc=True)\n",
    "    )\n",
    ")"
   ]
  },
  {
   "cell_type": "code",
   "execution_count": 5,
   "metadata": {},
   "outputs": [
    {
     "data": {
      "application/vnd.jupyter.widget-view+json": {
       "model_id": "c5e0e51f9956464db8730937eb1a795a",
       "version_major": 2,
       "version_minor": 0
      },
      "text/plain": [
       "  0%|          | 0/169343 [00:00<?, ?it/s]"
      ]
     },
     "metadata": {},
     "output_type": "display_data"
    }
   ],
   "source": [
    "# remove stop words from our list of words for each paper\n",
    "def remove_stopwords(words):\n",
    "    return [word for word in words if word not in stop_words]\n",
    "\n",
    "\n",
    "nodeid2text = nodeid2text.assign(\n",
    "    words_clean=nodeid2text[\"words\"].progress_apply(remove_stopwords)\n",
    ")"
   ]
  },
  {
   "cell_type": "code",
   "execution_count": 6,
   "metadata": {},
   "outputs": [],
   "source": [
    "# create a dictionary of words from our training set\n",
    "# this maps token ids to unique words\n",
    "id2word = corpora.Dictionary(nodeid2text[\"words_clean\"].loc[train_idx])"
   ]
  },
  {
   "cell_type": "code",
   "execution_count": 7,
   "metadata": {},
   "outputs": [],
   "source": [
    "# Create a corpus of words from the filtered list of words for each paper. A\n",
    "# corpus is a list of tuples with the token id and the number of times the token\n",
    "# appears\n",
    "corpus = [id2word.doc2bow(text) for text in nodeid2text.loc[train_idx][\"words_clean\"]]"
   ]
  },
  {
   "cell_type": "code",
   "execution_count": 8,
   "metadata": {},
   "outputs": [],
   "source": [
    "# create a latent dirichlet allocation model from our training data\n",
    "# we arbitarily set the number of topics to be 10\n",
    "lda_model = gensim.models.LdaMulticore(corpus=corpus, id2word=id2word, num_topics=40)"
   ]
  },
  {
   "cell_type": "code",
   "execution_count": 9,
   "metadata": {},
   "outputs": [],
   "source": [
    "# now we apply this model to our entire dataset\n",
    "gammas, _ = lda_model.inference(\n",
    "    [id2word.doc2bow(text) for text in nodeid2text[\"words_clean\"]]\n",
    ")"
   ]
  },
  {
   "cell_type": "code",
   "execution_count": 10,
   "metadata": {},
   "outputs": [
    {
     "name": "stderr",
     "output_type": "stream",
     "text": [
      "/home/benlimpa/miniconda3/envs/cs267a/lib/python3.10/site-packages/sklearn/linear_model/_logistic.py:444: ConvergenceWarning: lbfgs failed to converge (status=1):\n",
      "STOP: TOTAL NO. of ITERATIONS REACHED LIMIT.\n",
      "\n",
      "Increase the number of iterations (max_iter) or scale the data as shown in:\n",
      "    https://scikit-learn.org/stable/modules/preprocessing.html\n",
      "Please also refer to the documentation for alternative solver options:\n",
      "    https://scikit-learn.org/stable/modules/linear_model.html#logistic-regression\n",
      "  n_iter_i = _check_optimize_result(\n"
     ]
    }
   ],
   "source": [
    "# train a classifier on the output of the LDA model\n",
    "#scaled_gammas = preprocessing.StandardScaler().fit_transform(gammas)\n",
    "logistic_clf = LogisticRegression(random_state=0).fit(\n",
    "    gammas[train_idx], nodeid2text.iloc[train_idx][\"label\"]\n",
    ")"
   ]
  },
  {
   "cell_type": "code",
   "execution_count": 11,
   "metadata": {},
   "outputs": [
    {
     "name": "stdout",
     "output_type": "stream",
     "text": [
      "Training Accuracy: 0.5067021475462112\n",
      "Validation Accuracy: 0.5224000805396154\n",
      "Test Accuracy: 0.5052774520091352\n"
     ]
    }
   ],
   "source": [
    "# test the model\n",
    "train_acc = logistic_clf.score(gammas[train_idx], nodeid2text.iloc[train_idx][\"label\"])\n",
    "valid_acc = logistic_clf.score(gammas[valid_idx], nodeid2text.iloc[valid_idx][\"label\"])\n",
    "test_acc = logistic_clf.score(gammas[test_idx], nodeid2text.iloc[test_idx][\"label\"])\n",
    "print(f\"Training Accuracy: {train_acc}\")\n",
    "print(f\"Validation Accuracy: {valid_acc}\")\n",
    "print(f\"Test Accuracy: {test_acc}\")"
   ]
  }
 ],
 "metadata": {
  "interpreter": {
   "hash": "010d058ca0eabdc86ef3c4af3f31bd9cb145f230d71eb139e3a74b00188222a9"
  },
  "kernelspec": {
   "display_name": "Python 3.10.4 ('cs267a')",
   "language": "python",
   "name": "python3"
  },
  "language_info": {
   "codemirror_mode": {
    "name": "ipython",
    "version": 3
   },
   "file_extension": ".py",
   "mimetype": "text/x-python",
   "name": "python",
   "nbconvert_exporter": "python",
   "pygments_lexer": "ipython3",
   "version": "3.10.4"
  },
  "orig_nbformat": 4
 },
 "nbformat": 4,
 "nbformat_minor": 2
}
