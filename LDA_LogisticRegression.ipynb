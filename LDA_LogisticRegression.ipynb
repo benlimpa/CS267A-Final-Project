{
 "cells": [
  {
   "cell_type": "code",
   "execution_count": null,
   "metadata": {},
   "outputs": [],
   "source": [
    "import pickle\n",
    "import gensim\n",
    "import pandas as pd\n",
    "import numpy as np\n",
    "from sklearn.linear_model import LogisticRegression\n",
    "from tqdm.notebook import tqdm\n",
    "from matplotlib import pyplot as plt\n",
    "\n",
    "from utilities import get_nodeid2text"
   ]
  },
  {
   "cell_type": "code",
   "execution_count": null,
   "metadata": {},
   "outputs": [],
   "source": [
    "with open(\"data/corpus.pkl\", \"rb\") as f:\n",
    "    corpus = pickle.load(f)\n",
    "with open(\"data/id2word.pkl\", \"rb\") as f:\n",
    "    id2word = pickle.load(f)\n",
    "nodeid2text = pd.read_pickle(\"data/nodeid2text_gensim.pkl\")\n",
    "_, (train_idx, valid_idx, test_idx) = get_nodeid2text()\n",
    "num_topics_list = [10, 20, 40, 80]"
   ]
  },
  {
   "cell_type": "code",
   "execution_count": null,
   "metadata": {},
   "outputs": [],
   "source": [
    "for n_topics in tqdm(num_topics_list):\n",
    "    # create a latent dirichlet allocation model from our training data\n",
    "    # we arbitarily set the number of topics to be 10\n",
    "    lda_model = gensim.models.LdaMulticore(corpus=corpus, id2word=id2word, num_topics=n_topics)\n",
    "    # now we apply this model to our entire dataset\n",
    "    gammas, _ = lda_model.inference(\n",
    "        [id2word.doc2bow(text) for text in nodeid2text[\"words_clean\"]]\n",
    "    )\n",
    "    np.save(f\"gammas/{n_topics}_topics.npy\", gammas)"
   ]
  },
  {
   "cell_type": "code",
   "execution_count": null,
   "metadata": {},
   "outputs": [],
   "source": [
    "all_gammas = [\n",
    "    np.load(f\"gammas/{n_topics}_topics.npy\") for n_topics in tqdm(num_topics_list)\n",
    "]\n",
    "acc = np.zeros((len(num_topics_list), 3), dtype=float)\n",
    "for i, (n_topics, gammas) in enumerate(zip(tqdm(num_topics_list), all_gammas)):\n",
    "    # train a classifier on the output of the LDA model\n",
    "    logistic_clf = LogisticRegression(random_state=0).fit(\n",
    "        gammas[train_idx], nodeid2text.iloc[train_idx][\"label\"]\n",
    "    )\n",
    "    # test the model\n",
    "    train_acc = logistic_clf.score(\n",
    "        gammas[train_idx], nodeid2text.iloc[train_idx][\"label\"]\n",
    "    )\n",
    "    valid_acc = logistic_clf.score(\n",
    "        gammas[valid_idx], nodeid2text.iloc[valid_idx][\"label\"]\n",
    "    )\n",
    "    test_acc = logistic_clf.score(gammas[test_idx], nodeid2text.iloc[test_idx][\"label\"])\n",
    "    acc[i] = np.array([train_acc, valid_acc, test_acc], dtype=float)\n",
    "    print(f\"Num Topics: {n_topics}\")\n",
    "    print(f\"Training Accuracy: {train_acc}\")\n",
    "    print(f\"Validation Accuracy: {valid_acc}\")\n",
    "    print(f\"Test Accuracy: {test_acc}\")\n"
   ]
  },
  {
   "cell_type": "code",
   "execution_count": null,
   "metadata": {},
   "outputs": [],
   "source": [
    "plt.title(\"Validation Acc. v. Num Topics\")\n",
    "plt.xlabel(\"Number of Topics\")\n",
    "plt.ylabel(\"Validation Accuracy\")\n",
    "plt.bar([str(n_topics) for n_topics in num_topics_list], acc[:, 1])"
   ]
  },
  {
   "cell_type": "code",
   "execution_count": null,
   "metadata": {},
   "outputs": [],
   "source": [
    "acc"
   ]
  }
 ],
 "metadata": {
  "interpreter": {
   "hash": "010d058ca0eabdc86ef3c4af3f31bd9cb145f230d71eb139e3a74b00188222a9"
  },
  "kernelspec": {
   "display_name": "Python 3.10.4 ('cs267a')",
   "language": "python",
   "name": "python3"
  },
  "language_info": {
   "codemirror_mode": {
    "name": "ipython",
    "version": 3
   },
   "file_extension": ".py",
   "mimetype": "text/x-python",
   "name": "python",
   "nbconvert_exporter": "python",
   "pygments_lexer": "ipython3",
   "version": "3.10.4"
  },
  "orig_nbformat": 4
 },
 "nbformat": 4,
 "nbformat_minor": 2
}
