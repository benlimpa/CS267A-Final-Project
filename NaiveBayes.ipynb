{
 "cells": [
  {
   "cell_type": "code",
   "execution_count": 1,
   "metadata": {},
   "outputs": [],
   "source": [
    "from ogb.nodeproppred import NodePropPredDataset\n",
    "import pandas as pd\n",
    "from tqdm.notebook import tqdm\n",
    "from sklearn.feature_extraction.text import TfidfTransformer, CountVectorizer\n",
    "from sklearn.naive_bayes import MultinomialNB\n",
    "tqdm.pandas()"
   ]
  },
  {
   "cell_type": "code",
   "execution_count": 2,
   "metadata": {},
   "outputs": [],
   "source": [
    "dataset = NodePropPredDataset(name='ogbn-arxiv', root='./arxiv/')"
   ]
  },
  {
   "cell_type": "code",
   "execution_count": 3,
   "metadata": {},
   "outputs": [],
   "source": [
    "graph, label = dataset[0] # graph: library-agnostic graph object"
   ]
  },
  {
   "cell_type": "code",
   "execution_count": 4,
   "metadata": {},
   "outputs": [],
   "source": [
    "split_idx = dataset.get_idx_split()\n",
    "train_idx, valid_idx, test_idx = split_idx[\"train\"], split_idx[\"valid\"], split_idx[\"test\"]"
   ]
  },
  {
   "cell_type": "code",
   "execution_count": 5,
   "metadata": {},
   "outputs": [],
   "source": [
    "nodelabels = pd.Series(label.flatten(), name=\"label\")"
   ]
  },
  {
   "cell_type": "code",
   "execution_count": 6,
   "metadata": {},
   "outputs": [
    {
     "data": {
      "text/html": [
       "<div>\n",
       "<style scoped>\n",
       "    .dataframe tbody tr th:only-of-type {\n",
       "        vertical-align: middle;\n",
       "    }\n",
       "\n",
       "    .dataframe tbody tr th {\n",
       "        vertical-align: top;\n",
       "    }\n",
       "\n",
       "    .dataframe thead th {\n",
       "        text-align: right;\n",
       "    }\n",
       "</style>\n",
       "<table border=\"1\" class=\"dataframe\">\n",
       "  <thead>\n",
       "    <tr style=\"text-align: right;\">\n",
       "      <th></th>\n",
       "      <th>node idx</th>\n",
       "      <th>paper id</th>\n",
       "    </tr>\n",
       "  </thead>\n",
       "  <tbody>\n",
       "    <tr>\n",
       "      <th>0</th>\n",
       "      <td>0</td>\n",
       "      <td>9657784</td>\n",
       "    </tr>\n",
       "    <tr>\n",
       "      <th>1</th>\n",
       "      <td>1</td>\n",
       "      <td>39886162</td>\n",
       "    </tr>\n",
       "    <tr>\n",
       "      <th>2</th>\n",
       "      <td>2</td>\n",
       "      <td>116214155</td>\n",
       "    </tr>\n",
       "    <tr>\n",
       "      <th>3</th>\n",
       "      <td>3</td>\n",
       "      <td>121432379</td>\n",
       "    </tr>\n",
       "    <tr>\n",
       "      <th>4</th>\n",
       "      <td>4</td>\n",
       "      <td>231147053</td>\n",
       "    </tr>\n",
       "    <tr>\n",
       "      <th>...</th>\n",
       "      <td>...</td>\n",
       "      <td>...</td>\n",
       "    </tr>\n",
       "    <tr>\n",
       "      <th>169338</th>\n",
       "      <td>169338</td>\n",
       "      <td>3011696425</td>\n",
       "    </tr>\n",
       "    <tr>\n",
       "      <th>169339</th>\n",
       "      <td>169339</td>\n",
       "      <td>3011708313</td>\n",
       "    </tr>\n",
       "    <tr>\n",
       "      <th>169340</th>\n",
       "      <td>169340</td>\n",
       "      <td>3011798063</td>\n",
       "    </tr>\n",
       "    <tr>\n",
       "      <th>169341</th>\n",
       "      <td>169341</td>\n",
       "      <td>3012226457</td>\n",
       "    </tr>\n",
       "    <tr>\n",
       "      <th>169342</th>\n",
       "      <td>169342</td>\n",
       "      <td>3012505757</td>\n",
       "    </tr>\n",
       "  </tbody>\n",
       "</table>\n",
       "<p>169343 rows × 2 columns</p>\n",
       "</div>"
      ],
      "text/plain": [
       "       node idx    paper id\n",
       "0             0     9657784\n",
       "1             1    39886162\n",
       "2             2   116214155\n",
       "3             3   121432379\n",
       "4             4   231147053\n",
       "...         ...         ...\n",
       "169338   169338  3011696425\n",
       "169339   169339  3011708313\n",
       "169340   169340  3011798063\n",
       "169341   169341  3012226457\n",
       "169342   169342  3012505757\n",
       "\n",
       "[169343 rows x 2 columns]"
      ]
     },
     "execution_count": 6,
     "metadata": {},
     "output_type": "execute_result"
    }
   ],
   "source": [
    "nodeid2paperid = pd.read_csv(\"arxiv/ogbn_arxiv/mapping/nodeidx2paperid.csv\", dtype=str)\n",
    "nodeid2paperid"
   ]
  },
  {
   "cell_type": "code",
   "execution_count": 7,
   "metadata": {},
   "outputs": [
    {
     "data": {
      "text/html": [
       "<div>\n",
       "<style scoped>\n",
       "    .dataframe tbody tr th:only-of-type {\n",
       "        vertical-align: middle;\n",
       "    }\n",
       "\n",
       "    .dataframe tbody tr th {\n",
       "        vertical-align: top;\n",
       "    }\n",
       "\n",
       "    .dataframe thead th {\n",
       "        text-align: right;\n",
       "    }\n",
       "</style>\n",
       "<table border=\"1\" class=\"dataframe\">\n",
       "  <thead>\n",
       "    <tr style=\"text-align: right;\">\n",
       "      <th></th>\n",
       "      <th>node idx</th>\n",
       "      <th>paper id</th>\n",
       "      <th>label</th>\n",
       "    </tr>\n",
       "  </thead>\n",
       "  <tbody>\n",
       "    <tr>\n",
       "      <th>0</th>\n",
       "      <td>0</td>\n",
       "      <td>9657784</td>\n",
       "      <td>4</td>\n",
       "    </tr>\n",
       "    <tr>\n",
       "      <th>1</th>\n",
       "      <td>1</td>\n",
       "      <td>39886162</td>\n",
       "      <td>5</td>\n",
       "    </tr>\n",
       "    <tr>\n",
       "      <th>2</th>\n",
       "      <td>2</td>\n",
       "      <td>116214155</td>\n",
       "      <td>28</td>\n",
       "    </tr>\n",
       "    <tr>\n",
       "      <th>3</th>\n",
       "      <td>3</td>\n",
       "      <td>121432379</td>\n",
       "      <td>8</td>\n",
       "    </tr>\n",
       "    <tr>\n",
       "      <th>4</th>\n",
       "      <td>4</td>\n",
       "      <td>231147053</td>\n",
       "      <td>27</td>\n",
       "    </tr>\n",
       "    <tr>\n",
       "      <th>...</th>\n",
       "      <td>...</td>\n",
       "      <td>...</td>\n",
       "      <td>...</td>\n",
       "    </tr>\n",
       "    <tr>\n",
       "      <th>169338</th>\n",
       "      <td>169338</td>\n",
       "      <td>3011696425</td>\n",
       "      <td>4</td>\n",
       "    </tr>\n",
       "    <tr>\n",
       "      <th>169339</th>\n",
       "      <td>169339</td>\n",
       "      <td>3011708313</td>\n",
       "      <td>24</td>\n",
       "    </tr>\n",
       "    <tr>\n",
       "      <th>169340</th>\n",
       "      <td>169340</td>\n",
       "      <td>3011798063</td>\n",
       "      <td>10</td>\n",
       "    </tr>\n",
       "    <tr>\n",
       "      <th>169341</th>\n",
       "      <td>169341</td>\n",
       "      <td>3012226457</td>\n",
       "      <td>4</td>\n",
       "    </tr>\n",
       "    <tr>\n",
       "      <th>169342</th>\n",
       "      <td>169342</td>\n",
       "      <td>3012505757</td>\n",
       "      <td>1</td>\n",
       "    </tr>\n",
       "  </tbody>\n",
       "</table>\n",
       "<p>169343 rows × 3 columns</p>\n",
       "</div>"
      ],
      "text/plain": [
       "       node idx    paper id  label\n",
       "0             0     9657784      4\n",
       "1             1    39886162      5\n",
       "2             2   116214155     28\n",
       "3             3   121432379      8\n",
       "4             4   231147053     27\n",
       "...         ...         ...    ...\n",
       "169338   169338  3011696425      4\n",
       "169339   169339  3011708313     24\n",
       "169340   169340  3011798063     10\n",
       "169341   169341  3012226457      4\n",
       "169342   169342  3012505757      1\n",
       "\n",
       "[169343 rows x 3 columns]"
      ]
     },
     "execution_count": 7,
     "metadata": {},
     "output_type": "execute_result"
    }
   ],
   "source": [
    "nodeid2paperid2label = pd.merge(nodeid2paperid, nodelabels, left_index=True, right_index=True)\n",
    "nodeid2paperid2label"
   ]
  },
  {
   "cell_type": "code",
   "execution_count": 8,
   "metadata": {},
   "outputs": [
    {
     "data": {
      "text/html": [
       "<div>\n",
       "<style scoped>\n",
       "    .dataframe tbody tr th:only-of-type {\n",
       "        vertical-align: middle;\n",
       "    }\n",
       "\n",
       "    .dataframe tbody tr th {\n",
       "        vertical-align: top;\n",
       "    }\n",
       "\n",
       "    .dataframe thead th {\n",
       "        text-align: right;\n",
       "    }\n",
       "</style>\n",
       "<table border=\"1\" class=\"dataframe\">\n",
       "  <thead>\n",
       "    <tr style=\"text-align: right;\">\n",
       "      <th></th>\n",
       "      <th>paper id</th>\n",
       "      <th>title</th>\n",
       "      <th>abstract</th>\n",
       "    </tr>\n",
       "  </thead>\n",
       "  <tbody>\n",
       "    <tr>\n",
       "      <th>0</th>\n",
       "      <td>200971</td>\n",
       "      <td>ontology as a source for rule generation</td>\n",
       "      <td>This paper discloses the potential of OWL (Web...</td>\n",
       "    </tr>\n",
       "    <tr>\n",
       "      <th>1</th>\n",
       "      <td>549074</td>\n",
       "      <td>a novel methodology for thermal analysis a 3 d...</td>\n",
       "      <td>The semiconductor industry is reaching a fasci...</td>\n",
       "    </tr>\n",
       "    <tr>\n",
       "      <th>2</th>\n",
       "      <td>630234</td>\n",
       "      <td>spreadsheets on the move an evaluation of mobi...</td>\n",
       "      <td>The power of mobile devices has increased dram...</td>\n",
       "    </tr>\n",
       "    <tr>\n",
       "      <th>3</th>\n",
       "      <td>803423</td>\n",
       "      <td>multi view metric learning for multi view vide...</td>\n",
       "      <td>Traditional methods on video summarization are...</td>\n",
       "    </tr>\n",
       "    <tr>\n",
       "      <th>4</th>\n",
       "      <td>1102481</td>\n",
       "      <td>big data analytics in future internet of things</td>\n",
       "      <td>Current research on Internet of Things (IoT) m...</td>\n",
       "    </tr>\n",
       "    <tr>\n",
       "      <th>...</th>\n",
       "      <td>...</td>\n",
       "      <td>...</td>\n",
       "      <td>...</td>\n",
       "    </tr>\n",
       "    <tr>\n",
       "      <th>179715</th>\n",
       "      <td>3012555423</td>\n",
       "      <td>kernel quantization for efficient network comp...</td>\n",
       "      <td>This paper presents a novel network compressio...</td>\n",
       "    </tr>\n",
       "    <tr>\n",
       "      <th>179716</th>\n",
       "      <td>3012556759</td>\n",
       "      <td>generating electronic health records with mult...</td>\n",
       "      <td>Sharing electronic health records (EHRs) on a ...</td>\n",
       "    </tr>\n",
       "    <tr>\n",
       "      <th>179717</th>\n",
       "      <td>3012557507</td>\n",
       "      <td>vulnerabilities of connectionist ai applicatio...</td>\n",
       "      <td>This article deals with the IT security of con...</td>\n",
       "    </tr>\n",
       "    <tr>\n",
       "      <th>179718</th>\n",
       "      <td>3012557525</td>\n",
       "      <td>cross modal multi task learning for graphic re...</td>\n",
       "      <td>Face recognition of realistic visual images ha...</td>\n",
       "    </tr>\n",
       "    <tr>\n",
       "      <th>179719</th>\n",
       "      <td>NaN</td>\n",
       "      <td>NaN</td>\n",
       "      <td>NaN</td>\n",
       "    </tr>\n",
       "  </tbody>\n",
       "</table>\n",
       "<p>179720 rows × 3 columns</p>\n",
       "</div>"
      ],
      "text/plain": [
       "          paper id                                              title  \\\n",
       "0           200971           ontology as a source for rule generation   \n",
       "1           549074  a novel methodology for thermal analysis a 3 d...   \n",
       "2           630234  spreadsheets on the move an evaluation of mobi...   \n",
       "3           803423  multi view metric learning for multi view vide...   \n",
       "4          1102481    big data analytics in future internet of things   \n",
       "...            ...                                                ...   \n",
       "179715  3012555423  kernel quantization for efficient network comp...   \n",
       "179716  3012556759  generating electronic health records with mult...   \n",
       "179717  3012557507  vulnerabilities of connectionist ai applicatio...   \n",
       "179718  3012557525  cross modal multi task learning for graphic re...   \n",
       "179719         NaN                                                NaN   \n",
       "\n",
       "                                                 abstract  \n",
       "0       This paper discloses the potential of OWL (Web...  \n",
       "1       The semiconductor industry is reaching a fasci...  \n",
       "2       The power of mobile devices has increased dram...  \n",
       "3       Traditional methods on video summarization are...  \n",
       "4       Current research on Internet of Things (IoT) m...  \n",
       "...                                                   ...  \n",
       "179715  This paper presents a novel network compressio...  \n",
       "179716  Sharing electronic health records (EHRs) on a ...  \n",
       "179717  This article deals with the IT security of con...  \n",
       "179718  Face recognition of realistic visual images ha...  \n",
       "179719                                                NaN  \n",
       "\n",
       "[179720 rows x 3 columns]"
      ]
     },
     "execution_count": 8,
     "metadata": {},
     "output_type": "execute_result"
    }
   ],
   "source": [
    "paperid2text = pd.read_csv(\"arxiv/titleabs.tsv\", sep=\"\\t\", dtype=str, names=[\"paper id\", \"title\", \"abstract\"])\n",
    "paperid2text"
   ]
  },
  {
   "cell_type": "code",
   "execution_count": 9,
   "metadata": {},
   "outputs": [
    {
     "data": {
      "text/html": [
       "<div>\n",
       "<style scoped>\n",
       "    .dataframe tbody tr th:only-of-type {\n",
       "        vertical-align: middle;\n",
       "    }\n",
       "\n",
       "    .dataframe tbody tr th {\n",
       "        vertical-align: top;\n",
       "    }\n",
       "\n",
       "    .dataframe thead th {\n",
       "        text-align: right;\n",
       "    }\n",
       "</style>\n",
       "<table border=\"1\" class=\"dataframe\">\n",
       "  <thead>\n",
       "    <tr style=\"text-align: right;\">\n",
       "      <th></th>\n",
       "      <th>node idx</th>\n",
       "      <th>label</th>\n",
       "      <th>text</th>\n",
       "    </tr>\n",
       "  </thead>\n",
       "  <tbody>\n",
       "    <tr>\n",
       "      <th>0</th>\n",
       "      <td>0</td>\n",
       "      <td>4</td>\n",
       "      <td>evasion attacks against machine learning at te...</td>\n",
       "    </tr>\n",
       "    <tr>\n",
       "      <th>1</th>\n",
       "      <td>1</td>\n",
       "      <td>5</td>\n",
       "      <td>how hard is computing parity with noisy commun...</td>\n",
       "    </tr>\n",
       "    <tr>\n",
       "      <th>2</th>\n",
       "      <td>2</td>\n",
       "      <td>28</td>\n",
       "      <td>on the absence of the rip in real world applic...</td>\n",
       "    </tr>\n",
       "    <tr>\n",
       "      <th>3</th>\n",
       "      <td>3</td>\n",
       "      <td>8</td>\n",
       "      <td>a promise theory perspective on data networks ...</td>\n",
       "    </tr>\n",
       "    <tr>\n",
       "      <th>4</th>\n",
       "      <td>4</td>\n",
       "      <td>27</td>\n",
       "      <td>analysis of asymptotically optimal sampling ba...</td>\n",
       "    </tr>\n",
       "    <tr>\n",
       "      <th>...</th>\n",
       "      <td>...</td>\n",
       "      <td>...</td>\n",
       "      <td>...</td>\n",
       "    </tr>\n",
       "    <tr>\n",
       "      <th>169338</th>\n",
       "      <td>169338</td>\n",
       "      <td>4</td>\n",
       "      <td>sentinet detecting localized universal attacks...</td>\n",
       "    </tr>\n",
       "    <tr>\n",
       "      <th>169339</th>\n",
       "      <td>169339</td>\n",
       "      <td>24</td>\n",
       "      <td>interpretable mtl from heterogeneous domains u...</td>\n",
       "    </tr>\n",
       "    <tr>\n",
       "      <th>169340</th>\n",
       "      <td>169340</td>\n",
       "      <td>10</td>\n",
       "      <td>learning compositional rules via neural progra...</td>\n",
       "    </tr>\n",
       "    <tr>\n",
       "      <th>169341</th>\n",
       "      <td>169341</td>\n",
       "      <td>4</td>\n",
       "      <td>certified defenses for adversarial patches Adv...</td>\n",
       "    </tr>\n",
       "    <tr>\n",
       "      <th>169342</th>\n",
       "      <td>169342</td>\n",
       "      <td>1</td>\n",
       "      <td>fauras a proxy based framework for ensuring th...</td>\n",
       "    </tr>\n",
       "  </tbody>\n",
       "</table>\n",
       "<p>169343 rows × 3 columns</p>\n",
       "</div>"
      ],
      "text/plain": [
       "       node idx  label                                               text\n",
       "0             0      4  evasion attacks against machine learning at te...\n",
       "1             1      5  how hard is computing parity with noisy commun...\n",
       "2             2     28  on the absence of the rip in real world applic...\n",
       "3             3      8  a promise theory perspective on data networks ...\n",
       "4             4     27  analysis of asymptotically optimal sampling ba...\n",
       "...         ...    ...                                                ...\n",
       "169338   169338      4  sentinet detecting localized universal attacks...\n",
       "169339   169339     24  interpretable mtl from heterogeneous domains u...\n",
       "169340   169340     10  learning compositional rules via neural progra...\n",
       "169341   169341      4  certified defenses for adversarial patches Adv...\n",
       "169342   169342      1  fauras a proxy based framework for ensuring th...\n",
       "\n",
       "[169343 rows x 3 columns]"
      ]
     },
     "execution_count": 9,
     "metadata": {},
     "output_type": "execute_result"
    }
   ],
   "source": [
    "nodeid2text = pd.merge(nodeid2paperid2label, paperid2text, on=\"paper id\")\n",
    "nodeid2text = nodeid2text.assign(text=nodeid2text[\"title\"].str.cat(nodeid2text[\"abstract\"], sep=\" \"))\n",
    "nodeid2text = nodeid2text[[\"node idx\", \"label\", \"text\"]]\n",
    "nodeid2text"
   ]
  },
  {
   "cell_type": "code",
   "execution_count": 10,
   "metadata": {},
   "outputs": [],
   "source": [
    "nodeid2text_train = nodeid2text.loc[train_idx]\n",
    "nodeid2text_valid = nodeid2text.loc[valid_idx]\n",
    "nodeid2text_test = nodeid2text.loc[test_idx]"
   ]
  },
  {
   "cell_type": "code",
   "execution_count": 11,
   "metadata": {},
   "outputs": [],
   "source": [
    "vectorizer = CountVectorizer()\n",
    "vectorizer.fit(nodeid2text_train[\"text\"])\n",
    "X_train_counts = vectorizer.transform(nodeid2text_train[\"text\"])"
   ]
  },
  {
   "cell_type": "code",
   "execution_count": 12,
   "metadata": {},
   "outputs": [
    {
     "data": {
      "text/plain": [
       "<90941x96000 sparse matrix of type '<class 'numpy.float64'>'\n",
       "\twith 8769896 stored elements in Compressed Sparse Row format>"
      ]
     },
     "execution_count": 12,
     "metadata": {},
     "output_type": "execute_result"
    }
   ],
   "source": [
    "tf_transformer = TfidfTransformer(use_idf=False).fit(X_train_counts)\n",
    "X_train = tf_transformer.transform(X_train_counts)\n",
    "X_train"
   ]
  },
  {
   "cell_type": "code",
   "execution_count": 13,
   "metadata": {},
   "outputs": [],
   "source": [
    "clf = MultinomialNB().fit(X_train, nodeid2text_train[\"label\"])"
   ]
  },
  {
   "cell_type": "code",
   "execution_count": 14,
   "metadata": {},
   "outputs": [],
   "source": [
    "valid_pred = clf.predict(tf_transformer.transform(vectorizer.transform(nodeid2text_valid[\"text\"])))\n",
    "test_pred = clf.predict(tf_transformer.transform(vectorizer.transform(nodeid2text_test[\"text\"])))"
   ]
  },
  {
   "cell_type": "code",
   "execution_count": 15,
   "metadata": {},
   "outputs": [
    {
     "data": {
      "text/plain": [
       "0.3182992717876439"
      ]
     },
     "execution_count": 15,
     "metadata": {},
     "output_type": "execute_result"
    }
   ],
   "source": [
    "(valid_pred == nodeid2text_valid[\"label\"]).mean()"
   ]
  },
  {
   "cell_type": "code",
   "execution_count": 16,
   "metadata": {},
   "outputs": [
    {
     "data": {
      "text/plain": [
       "0.29220418492685635"
      ]
     },
     "execution_count": 16,
     "metadata": {},
     "output_type": "execute_result"
    }
   ],
   "source": [
    "(test_pred == nodeid2text_test[\"label\"]).mean()"
   ]
  },
  {
   "cell_type": "code",
   "execution_count": 17,
   "metadata": {},
   "outputs": [
    {
     "data": {
      "text/plain": [
       "40"
      ]
     },
     "execution_count": 17,
     "metadata": {},
     "output_type": "execute_result"
    }
   ],
   "source": [
    "len(nodeid2text[\"label\"].unique())"
   ]
  },
  {
   "cell_type": "markdown",
   "metadata": {},
   "source": [
    "# Topic Modeling"
   ]
  },
  {
   "cell_type": "code",
   "execution_count": 18,
   "metadata": {},
   "outputs": [
    {
     "name": "stderr",
     "output_type": "stream",
     "text": [
      "[nltk_data] Downloading package stopwords to\n",
      "[nltk_data]     C:\\Users\\benmo\\AppData\\Roaming\\nltk_data...\n",
      "[nltk_data]   Package stopwords is already up-to-date!\n"
     ]
    }
   ],
   "source": [
    "import gensim\n",
    "from gensim.utils import simple_preprocess\n",
    "import nltk\n",
    "nltk.download('stopwords')\n",
    "from nltk.corpus import stopwords\n",
    "stop_words = stopwords.words('english')\n",
    "stop_words.extend(['from', 'subject', 're', 'edu', 'use'])\n"
   ]
  },
  {
   "cell_type": "code",
   "execution_count": 19,
   "metadata": {},
   "outputs": [
    {
     "data": {
      "application/vnd.jupyter.widget-view+json": {
       "model_id": "3ae397990b684d5e80669df0d80b3a0a",
       "version_major": 2,
       "version_minor": 0
      },
      "text/plain": [
       "  0%|          | 0/169343 [00:00<?, ?it/s]"
      ]
     },
     "metadata": {},
     "output_type": "display_data"
    },
    {
     "data": {
      "text/html": [
       "<div>\n",
       "<style scoped>\n",
       "    .dataframe tbody tr th:only-of-type {\n",
       "        vertical-align: middle;\n",
       "    }\n",
       "\n",
       "    .dataframe tbody tr th {\n",
       "        vertical-align: top;\n",
       "    }\n",
       "\n",
       "    .dataframe thead th {\n",
       "        text-align: right;\n",
       "    }\n",
       "</style>\n",
       "<table border=\"1\" class=\"dataframe\">\n",
       "  <thead>\n",
       "    <tr style=\"text-align: right;\">\n",
       "      <th></th>\n",
       "      <th>node idx</th>\n",
       "      <th>label</th>\n",
       "      <th>text</th>\n",
       "      <th>words</th>\n",
       "    </tr>\n",
       "  </thead>\n",
       "  <tbody>\n",
       "    <tr>\n",
       "      <th>0</th>\n",
       "      <td>0</td>\n",
       "      <td>4</td>\n",
       "      <td>evasion attacks against machine learning at te...</td>\n",
       "      <td>[evasion, attacks, against, machine, learning,...</td>\n",
       "    </tr>\n",
       "    <tr>\n",
       "      <th>1</th>\n",
       "      <td>1</td>\n",
       "      <td>5</td>\n",
       "      <td>how hard is computing parity with noisy commun...</td>\n",
       "      <td>[how, hard, is, computing, parity, with, noisy...</td>\n",
       "    </tr>\n",
       "    <tr>\n",
       "      <th>2</th>\n",
       "      <td>2</td>\n",
       "      <td>28</td>\n",
       "      <td>on the absence of the rip in real world applic...</td>\n",
       "      <td>[on, the, absence, of, the, rip, in, real, wor...</td>\n",
       "    </tr>\n",
       "    <tr>\n",
       "      <th>3</th>\n",
       "      <td>3</td>\n",
       "      <td>8</td>\n",
       "      <td>a promise theory perspective on data networks ...</td>\n",
       "      <td>[promise, theory, perspective, on, data, netwo...</td>\n",
       "    </tr>\n",
       "    <tr>\n",
       "      <th>4</th>\n",
       "      <td>4</td>\n",
       "      <td>27</td>\n",
       "      <td>analysis of asymptotically optimal sampling ba...</td>\n",
       "      <td>[analysis, of, asymptotically, optimal, sampli...</td>\n",
       "    </tr>\n",
       "    <tr>\n",
       "      <th>...</th>\n",
       "      <td>...</td>\n",
       "      <td>...</td>\n",
       "      <td>...</td>\n",
       "      <td>...</td>\n",
       "    </tr>\n",
       "    <tr>\n",
       "      <th>169338</th>\n",
       "      <td>169338</td>\n",
       "      <td>4</td>\n",
       "      <td>sentinet detecting localized universal attacks...</td>\n",
       "      <td>[sentinet, detecting, localized, universal, at...</td>\n",
       "    </tr>\n",
       "    <tr>\n",
       "      <th>169339</th>\n",
       "      <td>169339</td>\n",
       "      <td>24</td>\n",
       "      <td>interpretable mtl from heterogeneous domains u...</td>\n",
       "      <td>[interpretable, mtl, from, heterogeneous, doma...</td>\n",
       "    </tr>\n",
       "    <tr>\n",
       "      <th>169340</th>\n",
       "      <td>169340</td>\n",
       "      <td>10</td>\n",
       "      <td>learning compositional rules via neural progra...</td>\n",
       "      <td>[learning, compositional, rules, via, neural, ...</td>\n",
       "    </tr>\n",
       "    <tr>\n",
       "      <th>169341</th>\n",
       "      <td>169341</td>\n",
       "      <td>4</td>\n",
       "      <td>certified defenses for adversarial patches Adv...</td>\n",
       "      <td>[certified, defenses, for, adversarial, patche...</td>\n",
       "    </tr>\n",
       "    <tr>\n",
       "      <th>169342</th>\n",
       "      <td>169342</td>\n",
       "      <td>1</td>\n",
       "      <td>fauras a proxy based framework for ensuring th...</td>\n",
       "      <td>[fauras, proxy, based, framework, for, ensurin...</td>\n",
       "    </tr>\n",
       "  </tbody>\n",
       "</table>\n",
       "<p>169343 rows × 4 columns</p>\n",
       "</div>"
      ],
      "text/plain": [
       "       node idx  label                                               text  \\\n",
       "0             0      4  evasion attacks against machine learning at te...   \n",
       "1             1      5  how hard is computing parity with noisy commun...   \n",
       "2             2     28  on the absence of the rip in real world applic...   \n",
       "3             3      8  a promise theory perspective on data networks ...   \n",
       "4             4     27  analysis of asymptotically optimal sampling ba...   \n",
       "...         ...    ...                                                ...   \n",
       "169338   169338      4  sentinet detecting localized universal attacks...   \n",
       "169339   169339     24  interpretable mtl from heterogeneous domains u...   \n",
       "169340   169340     10  learning compositional rules via neural progra...   \n",
       "169341   169341      4  certified defenses for adversarial patches Adv...   \n",
       "169342   169342      1  fauras a proxy based framework for ensuring th...   \n",
       "\n",
       "                                                    words  \n",
       "0       [evasion, attacks, against, machine, learning,...  \n",
       "1       [how, hard, is, computing, parity, with, noisy...  \n",
       "2       [on, the, absence, of, the, rip, in, real, wor...  \n",
       "3       [promise, theory, perspective, on, data, netwo...  \n",
       "4       [analysis, of, asymptotically, optimal, sampli...  \n",
       "...                                                   ...  \n",
       "169338  [sentinet, detecting, localized, universal, at...  \n",
       "169339  [interpretable, mtl, from, heterogeneous, doma...  \n",
       "169340  [learning, compositional, rules, via, neural, ...  \n",
       "169341  [certified, defenses, for, adversarial, patche...  \n",
       "169342  [fauras, proxy, based, framework, for, ensurin...  \n",
       "\n",
       "[169343 rows x 4 columns]"
      ]
     },
     "execution_count": 19,
     "metadata": {},
     "output_type": "execute_result"
    }
   ],
   "source": [
    "nodeid2text = nodeid2text.assign(words=nodeid2text[\"text\"].progress_apply(lambda mystr: gensim.utils.simple_preprocess(mystr, deacc=True)))\n",
    "nodeid2text"
   ]
  },
  {
   "cell_type": "code",
   "execution_count": 20,
   "metadata": {},
   "outputs": [
    {
     "data": {
      "application/vnd.jupyter.widget-view+json": {
       "model_id": "57fdae345fa7462c9af8e6b4d4be9dbf",
       "version_major": 2,
       "version_minor": 0
      },
      "text/plain": [
       "  0%|          | 0/169343 [00:00<?, ?it/s]"
      ]
     },
     "metadata": {},
     "output_type": "display_data"
    }
   ],
   "source": [
    "def remove_stopwords(words):\n",
    "    return [word for word in words if word not in stop_words]\n",
    "\n",
    "nodeid2text = nodeid2text.assign(words_clean=nodeid2text[\"words\"].progress_apply(remove_stopwords))"
   ]
  },
  {
   "cell_type": "code",
   "execution_count": 21,
   "metadata": {},
   "outputs": [],
   "source": [
    "import gensim.corpora as corpora\n",
    "id2word = corpora.Dictionary(nodeid2text[\"words_clean\"].iloc[train_idx])"
   ]
  },
  {
   "cell_type": "code",
   "execution_count": 22,
   "metadata": {},
   "outputs": [],
   "source": [
    "corpus = [id2word.doc2bow(text) for text in nodeid2text.iloc[train_idx][\"words_clean\"]]"
   ]
  },
  {
   "cell_type": "code",
   "execution_count": 23,
   "metadata": {},
   "outputs": [],
   "source": [
    "lda_model = gensim.models.LdaMulticore(corpus=corpus,\n",
    "                                       id2word=id2word,\n",
    "                                       num_topics=10)"
   ]
  },
  {
   "cell_type": "code",
   "execution_count": 24,
   "metadata": {},
   "outputs": [
    {
     "data": {
      "text/plain": [
       "[(0,\n",
       "  '0.008*\"time\" + 0.007*\"algorithm\" + 0.007*\"problem\" + 0.006*\"model\" + 0.005*\"results\" + 0.005*\"show\" + 0.005*\"based\" + 0.004*\"optimal\" + 0.004*\"algorithms\" + 0.004*\"paper\"'),\n",
       " (1,\n",
       "  '0.010*\"data\" + 0.007*\"algorithm\" + 0.006*\"based\" + 0.006*\"performance\" + 0.005*\"method\" + 0.005*\"sparse\" + 0.004*\"time\" + 0.004*\"problem\" + 0.004*\"algorithms\" + 0.004*\"learning\"'),\n",
       " (2,\n",
       "  '0.017*\"data\" + 0.008*\"learning\" + 0.006*\"based\" + 0.005*\"using\" + 0.005*\"approach\" + 0.004*\"model\" + 0.004*\"new\" + 0.004*\"show\" + 0.004*\"paper\" + 0.004*\"performance\"'),\n",
       " (3,\n",
       "  '0.007*\"based\" + 0.007*\"system\" + 0.006*\"model\" + 0.006*\"paper\" + 0.005*\"systems\" + 0.004*\"show\" + 0.004*\"using\" + 0.004*\"data\" + 0.004*\"logic\" + 0.004*\"language\"'),\n",
       " (4,\n",
       "  '0.008*\"codes\" + 0.007*\"network\" + 0.006*\"data\" + 0.005*\"paper\" + 0.005*\"information\" + 0.005*\"based\" + 0.004*\"results\" + 0.004*\"channel\" + 0.004*\"linear\" + 0.004*\"relay\"'),\n",
       " (5,\n",
       "  '0.009*\"time\" + 0.009*\"graph\" + 0.009*\"algorithm\" + 0.008*\"problem\" + 0.006*\"graphs\" + 0.005*\"show\" + 0.005*\"paper\" + 0.005*\"set\" + 0.005*\"based\" + 0.004*\"networks\"'),\n",
       " (6,\n",
       "  '0.011*\"channel\" + 0.007*\"information\" + 0.007*\"rate\" + 0.007*\"problem\" + 0.006*\"based\" + 0.006*\"codes\" + 0.005*\"paper\" + 0.005*\"capacity\" + 0.005*\"results\" + 0.005*\"two\"'),\n",
       " (7,\n",
       "  '0.008*\"problem\" + 0.007*\"learning\" + 0.007*\"algorithm\" + 0.007*\"algorithms\" + 0.006*\"based\" + 0.005*\"paper\" + 0.005*\"results\" + 0.004*\"show\" + 0.004*\"time\" + 0.004*\"search\"'),\n",
       " (8,\n",
       "  '0.012*\"network\" + 0.009*\"model\" + 0.008*\"networks\" + 0.008*\"based\" + 0.006*\"data\" + 0.006*\"neural\" + 0.006*\"using\" + 0.006*\"two\" + 0.005*\"learning\" + 0.005*\"paper\"'),\n",
       " (9,\n",
       "  '0.007*\"networks\" + 0.006*\"energy\" + 0.006*\"network\" + 0.006*\"problem\" + 0.006*\"paper\" + 0.005*\"based\" + 0.005*\"algorithm\" + 0.005*\"time\" + 0.004*\"learning\" + 0.004*\"power\"')]"
      ]
     },
     "execution_count": 24,
     "metadata": {},
     "output_type": "execute_result"
    }
   ],
   "source": [
    "lda_model.print_topics()"
   ]
  },
  {
   "cell_type": "code",
   "execution_count": 25,
   "metadata": {},
   "outputs": [
    {
     "data": {
      "text/plain": [
       "(169343, 10)"
      ]
     },
     "execution_count": 25,
     "metadata": {},
     "output_type": "execute_result"
    }
   ],
   "source": [
    "gammas, _ = lda_model.inference([id2word.doc2bow(text) for text in nodeid2text[\"words_clean\"]])\n",
    "gammas.shape"
   ]
  },
  {
   "cell_type": "code",
   "execution_count": 26,
   "metadata": {},
   "outputs": [],
   "source": [
    "from sklearn.linear_model import LogisticRegression"
   ]
  },
  {
   "cell_type": "code",
   "execution_count": 27,
   "metadata": {},
   "outputs": [
    {
     "data": {
      "text/plain": [
       "array([     0,      1,      2, ..., 169145, 169148, 169251], dtype=int64)"
      ]
     },
     "execution_count": 27,
     "metadata": {},
     "output_type": "execute_result"
    }
   ],
   "source": [
    "train_idx"
   ]
  },
  {
   "cell_type": "code",
   "execution_count": 29,
   "metadata": {},
   "outputs": [
    {
     "name": "stderr",
     "output_type": "stream",
     "text": [
      "c:\\Users\\benmo\\miniconda3\\envs\\corrandsmth\\lib\\site-packages\\sklearn\\linear_model\\_logistic.py:814: ConvergenceWarning: lbfgs failed to converge (status=1):\n",
      "STOP: TOTAL NO. of ITERATIONS REACHED LIMIT.\n",
      "\n",
      "Increase the number of iterations (max_iter) or scale the data as shown in:\n",
      "    https://scikit-learn.org/stable/modules/preprocessing.html\n",
      "Please also refer to the documentation for alternative solver options:\n",
      "    https://scikit-learn.org/stable/modules/linear_model.html#logistic-regression\n",
      "  n_iter_i = _check_optimize_result(\n"
     ]
    }
   ],
   "source": [
    "logistic_clf = LogisticRegression(random_state=0).fit(gammas[train_idx], nodeid2text.iloc[train_idx][\"label\"])"
   ]
  },
  {
   "cell_type": "code",
   "execution_count": 31,
   "metadata": {},
   "outputs": [
    {
     "data": {
      "text/plain": [
       "0.433538038189201"
      ]
     },
     "execution_count": 31,
     "metadata": {},
     "output_type": "execute_result"
    }
   ],
   "source": [
    "logistic_clf.score(gammas[valid_idx], nodeid2text.iloc[valid_idx][\"label\"])"
   ]
  },
  {
   "cell_type": "code",
   "execution_count": 32,
   "metadata": {},
   "outputs": [
    {
     "data": {
      "text/plain": [
       "0.4130814970269325"
      ]
     },
     "execution_count": 32,
     "metadata": {},
     "output_type": "execute_result"
    }
   ],
   "source": [
    "logistic_clf.score(gammas[test_idx], nodeid2text.iloc[test_idx][\"label\"])"
   ]
  },
  {
   "cell_type": "code",
   "execution_count": null,
   "metadata": {},
   "outputs": [],
   "source": []
  }
 ],
 "metadata": {
  "interpreter": {
   "hash": "03f1fe9e4bb120241d14b36a24a6f1e68be83d76c4ecd33ae3e0a83154e8e7f1"
  },
  "kernelspec": {
   "display_name": "Python 3.9.12 ('corrandsmth')",
   "language": "python",
   "name": "python3"
  },
  "language_info": {
   "codemirror_mode": {
    "name": "ipython",
    "version": 3
   },
   "file_extension": ".py",
   "mimetype": "text/x-python",
   "name": "python",
   "nbconvert_exporter": "python",
   "pygments_lexer": "ipython3",
   "version": "3.9.12"
  },
  "orig_nbformat": 4
 },
 "nbformat": 4,
 "nbformat_minor": 2
}
