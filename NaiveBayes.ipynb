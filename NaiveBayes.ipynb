{
 "cells": [
  {
   "cell_type": "code",
   "execution_count": null,
   "metadata": {},
   "outputs": [],
   "source": [
    "from ogb.nodeproppred import NodePropPredDataset\n",
    "import pandas as pd\n",
    "from sklearn.feature_extraction.text import TfidfTransformer, CountVectorizer\n",
    "from sklearn.naive_bayes import MultinomialNB"
   ]
  },
  {
   "cell_type": "code",
   "execution_count": null,
   "metadata": {},
   "outputs": [],
   "source": [
    "dataset = NodePropPredDataset(name='ogbn-arxiv', root='./arxiv/')"
   ]
  },
  {
   "cell_type": "code",
   "execution_count": null,
   "metadata": {},
   "outputs": [],
   "source": [
    "graph, label = dataset[0] # graph: library-agnostic graph object"
   ]
  },
  {
   "cell_type": "code",
   "execution_count": null,
   "metadata": {},
   "outputs": [],
   "source": [
    "split_idx = dataset.get_idx_split()\n",
    "train_idx, valid_idx, test_idx = split_idx[\"train\"], split_idx[\"valid\"], split_idx[\"test\"]"
   ]
  },
  {
   "cell_type": "code",
   "execution_count": null,
   "metadata": {},
   "outputs": [],
   "source": [
    "nodelabels = pd.Series(label.flatten(), name=\"label\")"
   ]
  },
  {
   "cell_type": "code",
   "execution_count": null,
   "metadata": {},
   "outputs": [],
   "source": [
    "nodeid2paperid = pd.read_csv(\"arxiv/ogbn_arxiv/mapping/nodeidx2paperid.csv\", dtype=str)\n",
    "nodeid2paperid"
   ]
  },
  {
   "cell_type": "code",
   "execution_count": null,
   "metadata": {},
   "outputs": [],
   "source": [
    "nodeid2paperid2label = pd.merge(nodeid2paperid, nodelabels, left_index=True, right_index=True)\n",
    "nodeid2paperid2label"
   ]
  },
  {
   "cell_type": "code",
   "execution_count": null,
   "metadata": {},
   "outputs": [],
   "source": [
    "paperid2text = pd.read_csv(\"arxiv/titleabs.tsv\", sep=\"\\t\", dtype=str, names=[\"paper id\", \"title\", \"abstract\"])\n",
    "paperid2text"
   ]
  },
  {
   "cell_type": "code",
   "execution_count": null,
   "metadata": {},
   "outputs": [],
   "source": [
    "nodeid2text = pd.merge(nodeid2paperid2label, paperid2text, on=\"paper id\")\n",
    "nodeid2text = nodeid2text.assign(text=nodeid2text[\"title\"].str.cat(nodeid2text[\"abstract\"], sep=\" \"))\n",
    "nodeid2text = nodeid2text[[\"node idx\", \"label\", \"text\"]]\n",
    "nodeid2text"
   ]
  },
  {
   "cell_type": "code",
   "execution_count": null,
   "metadata": {},
   "outputs": [],
   "source": [
    "nodeid2text_train = nodeid2text.loc[train_idx]\n",
    "nodeid2text_valid = nodeid2text.loc[valid_idx]\n",
    "nodeid2text_test = nodeid2text.loc[test_idx]"
   ]
  },
  {
   "cell_type": "code",
   "execution_count": null,
   "metadata": {},
   "outputs": [],
   "source": [
    "vectorizer = CountVectorizer()\n",
    "vectorizer.fit(nodeid2text_train[\"text\"])\n",
    "X_train_counts = vectorizer.transform(nodeid2text_train[\"text\"])"
   ]
  },
  {
   "cell_type": "code",
   "execution_count": null,
   "metadata": {},
   "outputs": [],
   "source": [
    "tf_transformer = TfidfTransformer(use_idf=False).fit(X_train_counts)\n",
    "X_train = tf_transformer.transform(X_train_counts)\n",
    "X_train"
   ]
  },
  {
   "cell_type": "code",
   "execution_count": null,
   "metadata": {},
   "outputs": [],
   "source": [
    "clf = MultinomialNB().fit(X_train, nodeid2text_train[\"label\"])"
   ]
  },
  {
   "cell_type": "code",
   "execution_count": null,
   "metadata": {},
   "outputs": [],
   "source": [
    "valid_pred = clf.predict(tf_transformer.transform(vectorizer.transform(nodeid2text_valid[\"text\"])))\n",
    "test_pred = clf.predict(tf_transformer.transform(vectorizer.transform(nodeid2text_test[\"text\"])))"
   ]
  },
  {
   "cell_type": "code",
   "execution_count": null,
   "metadata": {},
   "outputs": [],
   "source": [
    "(valid_pred == nodeid2text_valid[\"label\"]).mean()"
   ]
  },
  {
   "cell_type": "code",
   "execution_count": null,
   "metadata": {},
   "outputs": [],
   "source": [
    "(test_pred == nodeid2text_test[\"label\"]).mean()"
   ]
  },
  {
   "cell_type": "code",
   "execution_count": null,
   "metadata": {},
   "outputs": [],
   "source": [
    "len(nodeid2text[\"label\"].unique())"
   ]
  }
 ],
 "metadata": {
  "interpreter": {
   "hash": "03f1fe9e4bb120241d14b36a24a6f1e68be83d76c4ecd33ae3e0a83154e8e7f1"
  },
  "kernelspec": {
   "display_name": "Python 3.9.12 ('corrandsmth')",
   "language": "python",
   "name": "python3"
  },
  "language_info": {
   "codemirror_mode": {
    "name": "ipython",
    "version": 3
   },
   "file_extension": ".py",
   "mimetype": "text/x-python",
   "name": "python",
   "nbconvert_exporter": "python",
   "pygments_lexer": "ipython3",
   "version": "3.9.12"
  },
  "orig_nbformat": 4
 },
 "nbformat": 4,
 "nbformat_minor": 2
}
