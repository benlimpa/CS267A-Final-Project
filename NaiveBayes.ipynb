{
 "cells": [
  {
   "cell_type": "code",
   "execution_count": 1,
   "metadata": {},
   "outputs": [],
   "source": [
    "from utilities import get_nodeid2text\n",
    "from sklearn.feature_extraction.text import TfidfTransformer, CountVectorizer\n",
    "from sklearn.naive_bayes import MultinomialNB"
   ]
  },
  {
   "cell_type": "code",
   "execution_count": 2,
   "metadata": {},
   "outputs": [],
   "source": [
    "# load text data\n",
    "nodeid2text, (train_idx, valid_idx, test_idx) = get_nodeid2text()\n",
    "nodeid2text_train = nodeid2text.loc[train_idx]\n",
    "nodeid2text_valid = nodeid2text.loc[valid_idx]\n",
    "nodeid2text_test  = nodeid2text.loc[test_idx]"
   ]
  },
  {
   "cell_type": "code",
   "execution_count": 3,
   "metadata": {},
   "outputs": [],
   "source": [
    "# convert the text into word counts\n",
    "vectorizer = CountVectorizer()\n",
    "vectorizer.fit(nodeid2text_train[\"text\"])\n",
    "X_train_counts = vectorizer.transform(nodeid2text_train[\"text\"])"
   ]
  },
  {
   "cell_type": "code",
   "execution_count": 4,
   "metadata": {},
   "outputs": [],
   "source": [
    "# normalize the word counts\n",
    "tf_transformer = TfidfTransformer(use_idf=False).fit(X_train_counts)\n",
    "X_train = tf_transformer.transform(X_train_counts)"
   ]
  },
  {
   "cell_type": "code",
   "execution_count": 5,
   "metadata": {},
   "outputs": [],
   "source": [
    "# train a Naive Bayes classifier on the word counts\n",
    "clf = MultinomialNB().fit(X_train, nodeid2text_train[\"label\"])"
   ]
  },
  {
   "cell_type": "code",
   "execution_count": 6,
   "metadata": {},
   "outputs": [
    {
     "name": "stdout",
     "output_type": "stream",
     "text": [
      "Training Accuracy: 0.30238286361487116\n",
      "Validation Accuracy: 0.3182992717876439\n",
      "Test Accuracy: 0.29220418492685635\n"
     ]
    }
   ],
   "source": [
    "# evaluate the performance\n",
    "train_pred = clf.predict(tf_transformer.transform(vectorizer.transform(nodeid2text_train[\"text\"])))\n",
    "valid_pred = clf.predict(tf_transformer.transform(vectorizer.transform(nodeid2text_valid[\"text\"])))\n",
    "test_pred = clf.predict(tf_transformer.transform(vectorizer.transform(nodeid2text_test[\"text\"])))\n",
    "print(f\"Training Accuracy: {(train_pred == nodeid2text_train['label']).mean()}\")\n",
    "print(f\"Validation Accuracy: {(valid_pred == nodeid2text_valid['label']).mean()}\")\n",
    "print(f\"Test Accuracy: {(test_pred == nodeid2text_test['label']).mean()}\")"
   ]
  }
 ],
 "metadata": {
  "interpreter": {
   "hash": "010d058ca0eabdc86ef3c4af3f31bd9cb145f230d71eb139e3a74b00188222a9"
  },
  "kernelspec": {
   "display_name": "Python 3.10.4 ('cs267a')",
   "language": "python",
   "name": "python3"
  },
  "language_info": {
   "codemirror_mode": {
    "name": "ipython",
    "version": 3
   },
   "file_extension": ".py",
   "mimetype": "text/x-python",
   "name": "python",
   "nbconvert_exporter": "python",
   "pygments_lexer": "ipython3",
   "version": "3.10.4"
  },
  "orig_nbformat": 4
 },
 "nbformat": 4,
 "nbformat_minor": 2
}
